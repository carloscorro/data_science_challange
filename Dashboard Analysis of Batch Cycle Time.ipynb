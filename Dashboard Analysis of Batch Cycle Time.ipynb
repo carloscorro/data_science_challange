{
 "cells": [
  {
   "cell_type": "code",
   "execution_count": 160,
   "id": "730e636e",
   "metadata": {},
   "outputs": [],
   "source": [
    "import pandas as pd"
   ]
  },
  {
   "cell_type": "markdown",
   "id": "951c2088",
   "metadata": {},
   "source": [
    "## 1. Reading the csv file"
   ]
  },
  {
   "cell_type": "code",
   "execution_count": 161,
   "id": "88664e4c",
   "metadata": {},
   "outputs": [],
   "source": [
    "#Reading CSV file\n",
    "arq = \"FC_Mixer_MO.csv\"\n",
    "df = pd.read_csv(arq, sep=',')"
   ]
  },
  {
   "cell_type": "markdown",
   "id": "d8e72890",
   "metadata": {},
   "source": [
    "## 2. Data Process"
   ]
  },
  {
   "cell_type": "code",
   "execution_count": 162,
   "id": "daa1a8ce",
   "metadata": {},
   "outputs": [],
   "source": [
    "#Dropping the columns that we not gonna use\n",
    "df = df.drop(['site', 'division', 'category', 'line', 'model_name', 'recipe_group', 'product_code'], axis=1)"
   ]
  },
  {
   "cell_type": "code",
   "execution_count": 163,
   "id": "53f53c1b",
   "metadata": {},
   "outputs": [],
   "source": [
    "#Dropping rows with negative values\n",
    "df = df[df['char_value'] >= 0]"
   ]
  },
  {
   "cell_type": "code",
   "execution_count": 164,
   "id": "d39b2727",
   "metadata": {},
   "outputs": [],
   "source": [
    "#Filtering to retrieve only the completed batches\n",
    "df = df[(df['model_complete']=='COMPLETE')]"
   ]
  },
  {
   "cell_type": "code",
   "execution_count": 165,
   "id": "98e6ab35",
   "metadata": {},
   "outputs": [
    {
     "data": {
      "text/plain": [
       "array(['non_value_operating_time', 'phase_1.Inicio.duration',\n",
       "       'phase_2.Medicion.duration', 'phase_3.Recirculacion.duration',\n",
       "       'phase_3.Recirculacion.Peso_avg',\n",
       "       'phase_3.Recirculacion.Densidad_max',\n",
       "       'phase_3.Recirculacion.Presion_avg',\n",
       "       'phase_3.Recirculacion.Presion_max',\n",
       "       'phase_3.Recirculacion.Visco_max', 'total_duration'], dtype=object)"
      ]
     },
     "execution_count": 165,
     "metadata": {},
     "output_type": "execute_result"
    }
   ],
   "source": [
    "df.char_name.unique()"
   ]
  },
  {
   "cell_type": "code",
   "execution_count": 166,
   "id": "4dceea18",
   "metadata": {},
   "outputs": [],
   "source": [
    "def nova_coluna(texto, col_type='phase'):\n",
    "    phase_mapping = {\n",
    "        'non_value_operating_time': {'phase': 0, 'name': 'Operating'},\n",
    "        'phase_1.Inicio.duration': {'phase': 1, 'name': 'Inicio'},\n",
    "        'phase_2.Medicion.duration': {'phase': 2, 'name': 'Medicion'},\n",
    "        'phase_3.Recirculacion.duration': {'phase': 3, 'name': 'Recirculacion'},\n",
    "        'total_duration': {'phase': 4, 'name': 'Global'}\n",
    "    }\n",
    "    \n",
    "    if texto in phase_mapping:\n",
    "        return phase_mapping[texto][col_type]\n",
    "    else:\n",
    "        return 'None'\n",
    "\n",
    "# Applying the function using apply to create the new columns\n",
    "df['Phase'] = df['char_name'].apply(lambda x: nova_coluna(x, 'phase'))\n",
    "df['Name'] = df['char_name'].apply(lambda x: nova_coluna(x, 'name'))"
   ]
  },
  {
   "cell_type": "code",
   "execution_count": 167,
   "id": "cdd9a0d6",
   "metadata": {},
   "outputs": [],
   "source": [
    "# df[(df['char_name'] =='phase_1.Inicio.duration')]"
   ]
  },
  {
   "cell_type": "code",
   "execution_count": 168,
   "id": "0972d48f",
   "metadata": {},
   "outputs": [],
   "source": [
    "#Removing all the phases that are not in duration value\n",
    "condicao = df['Phase'] == 'None'\n",
    "df = df[~condicao]"
   ]
  },
  {
   "cell_type": "code",
   "execution_count": 169,
   "id": "45943be6",
   "metadata": {},
   "outputs": [],
   "source": [
    "#Reset index by rows\n",
    "df.index = range(len(df.index))"
   ]
  },
  {
   "cell_type": "code",
   "execution_count": 170,
   "id": "455fc411",
   "metadata": {},
   "outputs": [],
   "source": [
    "#Renaming columns\n",
    "df = df.rename(columns={'char_value': 'Duration_Sec', 'char_time':'Time', 'uniqueid': 'Batch'})"
   ]
  },
  {
   "cell_type": "code",
   "execution_count": 171,
   "id": "871c70cb",
   "metadata": {},
   "outputs": [],
   "source": [
    "#Droppin char_name column\n",
    "df = df.drop('char_name', axis=1)"
   ]
  },
  {
   "cell_type": "code",
   "execution_count": 172,
   "id": "8117c6de",
   "metadata": {},
   "outputs": [],
   "source": [
    "#Organizing the columns of the DataFrame\n",
    "df = df[['Batch', 'Phase', 'Name', 'Time' ,'Duration_Sec']]"
   ]
  },
  {
   "cell_type": "code",
   "execution_count": 173,
   "id": "afdf5261",
   "metadata": {},
   "outputs": [],
   "source": [
    "def convert_min(sec):\n",
    "    segundos_float = sec\n",
    "    segundos = int(segundos_float)\n",
    "    minutos = segundos // 60  # Divide to get the minutes\n",
    "    horas = minutos // 60  # Calculate the hours\n",
    "    minutos %= 60  # Calculate the remaining minutes after division by 60\n",
    "    segundos_restantes = segundos % 60  # Calcula os segundos restantes\n",
    "\n",
    "\n",
    "    # Formatting for the format 00:00.\n",
    "    tempo_formatado = '{:02d}:{:02d}:{:02d}'.format(horas, minutos, segundos_restantes)\n",
    "    \n",
    "    return tempo_formatado\n",
    "\n",
    "# Applying the function using apply to create the new columns of minutes\n",
    "df['Duration_Min'] = df['Duration_Sec'].apply(convert_min)"
   ]
  },
  {
   "cell_type": "code",
   "execution_count": 174,
   "id": "00a5dba8",
   "metadata": {},
   "outputs": [
    {
     "data": {
      "text/html": [
       "<div>\n",
       "<style scoped>\n",
       "    .dataframe tbody tr th:only-of-type {\n",
       "        vertical-align: middle;\n",
       "    }\n",
       "\n",
       "    .dataframe tbody tr th {\n",
       "        vertical-align: top;\n",
       "    }\n",
       "\n",
       "    .dataframe thead th {\n",
       "        text-align: right;\n",
       "    }\n",
       "</style>\n",
       "<table border=\"1\" class=\"dataframe\">\n",
       "  <thead>\n",
       "    <tr style=\"text-align: right;\">\n",
       "      <th></th>\n",
       "      <th>Batch</th>\n",
       "      <th>Phase</th>\n",
       "      <th>Name</th>\n",
       "      <th>Time</th>\n",
       "      <th>Duration_Sec</th>\n",
       "      <th>Duration_Min</th>\n",
       "    </tr>\n",
       "  </thead>\n",
       "  <tbody>\n",
       "    <tr>\n",
       "      <th>0</th>\n",
       "      <td>44168</td>\n",
       "      <td>0</td>\n",
       "      <td>Operating</td>\n",
       "      <td>2023-02-11 10:19:25</td>\n",
       "      <td>3560.0</td>\n",
       "      <td>00:59:20</td>\n",
       "    </tr>\n",
       "    <tr>\n",
       "      <th>1</th>\n",
       "      <td>44168</td>\n",
       "      <td>0</td>\n",
       "      <td>Operating</td>\n",
       "      <td>2023-02-11 20:49:30</td>\n",
       "      <td>300.0</td>\n",
       "      <td>00:05:00</td>\n",
       "    </tr>\n",
       "    <tr>\n",
       "      <th>2</th>\n",
       "      <td>44168</td>\n",
       "      <td>0</td>\n",
       "      <td>Operating</td>\n",
       "      <td>2023-02-12 04:28:05</td>\n",
       "      <td>190.0</td>\n",
       "      <td>00:03:10</td>\n",
       "    </tr>\n",
       "    <tr>\n",
       "      <th>3</th>\n",
       "      <td>44168</td>\n",
       "      <td>0</td>\n",
       "      <td>Operating</td>\n",
       "      <td>2023-02-12 07:41:10</td>\n",
       "      <td>140.0</td>\n",
       "      <td>00:02:20</td>\n",
       "    </tr>\n",
       "    <tr>\n",
       "      <th>4</th>\n",
       "      <td>44168</td>\n",
       "      <td>0</td>\n",
       "      <td>Operating</td>\n",
       "      <td>2023-02-12 15:19:00</td>\n",
       "      <td>640.0</td>\n",
       "      <td>00:10:40</td>\n",
       "    </tr>\n",
       "    <tr>\n",
       "      <th>...</th>\n",
       "      <td>...</td>\n",
       "      <td>...</td>\n",
       "      <td>...</td>\n",
       "      <td>...</td>\n",
       "      <td>...</td>\n",
       "      <td>...</td>\n",
       "    </tr>\n",
       "    <tr>\n",
       "      <th>1824</th>\n",
       "      <td>47268</td>\n",
       "      <td>0</td>\n",
       "      <td>Operating</td>\n",
       "      <td>2023-03-31 11:34:00</td>\n",
       "      <td>155.0</td>\n",
       "      <td>00:02:35</td>\n",
       "    </tr>\n",
       "    <tr>\n",
       "      <th>1825</th>\n",
       "      <td>47268</td>\n",
       "      <td>1</td>\n",
       "      <td>Inicio</td>\n",
       "      <td>2023-03-31 11:36:35</td>\n",
       "      <td>115.0</td>\n",
       "      <td>00:01:55</td>\n",
       "    </tr>\n",
       "    <tr>\n",
       "      <th>1826</th>\n",
       "      <td>47268</td>\n",
       "      <td>2</td>\n",
       "      <td>Medicion</td>\n",
       "      <td>2023-03-31 11:38:30</td>\n",
       "      <td>10120.0</td>\n",
       "      <td>02:48:40</td>\n",
       "    </tr>\n",
       "    <tr>\n",
       "      <th>1827</th>\n",
       "      <td>47268</td>\n",
       "      <td>3</td>\n",
       "      <td>Recirculacion</td>\n",
       "      <td>2023-03-31 14:27:10</td>\n",
       "      <td>310.0</td>\n",
       "      <td>00:05:10</td>\n",
       "    </tr>\n",
       "    <tr>\n",
       "      <th>1828</th>\n",
       "      <td>47268</td>\n",
       "      <td>4</td>\n",
       "      <td>Global</td>\n",
       "      <td>2023-03-31 14:32:20</td>\n",
       "      <td>10545.0</td>\n",
       "      <td>02:55:45</td>\n",
       "    </tr>\n",
       "  </tbody>\n",
       "</table>\n",
       "<p>1829 rows × 6 columns</p>\n",
       "</div>"
      ],
      "text/plain": [
       "      Batch Phase           Name                 Time  Duration_Sec  \\\n",
       "0     44168     0      Operating  2023-02-11 10:19:25        3560.0   \n",
       "1     44168     0      Operating  2023-02-11 20:49:30         300.0   \n",
       "2     44168     0      Operating  2023-02-12 04:28:05         190.0   \n",
       "3     44168     0      Operating  2023-02-12 07:41:10         140.0   \n",
       "4     44168     0      Operating  2023-02-12 15:19:00         640.0   \n",
       "...     ...   ...            ...                  ...           ...   \n",
       "1824  47268     0      Operating  2023-03-31 11:34:00         155.0   \n",
       "1825  47268     1         Inicio  2023-03-31 11:36:35         115.0   \n",
       "1826  47268     2       Medicion  2023-03-31 11:38:30       10120.0   \n",
       "1827  47268     3  Recirculacion  2023-03-31 14:27:10         310.0   \n",
       "1828  47268     4         Global  2023-03-31 14:32:20       10545.0   \n",
       "\n",
       "     Duration_Min  \n",
       "0        00:59:20  \n",
       "1        00:05:00  \n",
       "2        00:03:10  \n",
       "3        00:02:20  \n",
       "4        00:10:40  \n",
       "...           ...  \n",
       "1824     00:02:35  \n",
       "1825     00:01:55  \n",
       "1826     02:48:40  \n",
       "1827     00:05:10  \n",
       "1828     02:55:45  \n",
       "\n",
       "[1829 rows x 6 columns]"
      ]
     },
     "execution_count": 174,
     "metadata": {},
     "output_type": "execute_result"
    }
   ],
   "source": [
    "df"
   ]
  },
  {
   "cell_type": "code",
   "execution_count": 175,
   "id": "d9a603cf",
   "metadata": {},
   "outputs": [],
   "source": [
    "df.to_csv('dashboard_batch_cycle_time.csv', index=False)"
   ]
  },
  {
   "cell_type": "code",
   "execution_count": null,
   "id": "46cf1c1d",
   "metadata": {},
   "outputs": [],
   "source": []
  }
 ],
 "metadata": {
  "kernelspec": {
   "display_name": "Python 3 (ipykernel)",
   "language": "python",
   "name": "python3"
  },
  "language_info": {
   "codemirror_mode": {
    "name": "ipython",
    "version": 3
   },
   "file_extension": ".py",
   "mimetype": "text/x-python",
   "name": "python",
   "nbconvert_exporter": "python",
   "pygments_lexer": "ipython3",
   "version": "3.11.5"
  }
 },
 "nbformat": 4,
 "nbformat_minor": 5
}
