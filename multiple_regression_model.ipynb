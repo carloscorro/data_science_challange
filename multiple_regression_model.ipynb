{
 "cells": [
  {
   "cell_type": "markdown",
   "id": "eb829daf",
   "metadata": {},
   "source": [
    "### Importing modules "
   ]
  },
  {
   "cell_type": "code",
   "execution_count": 155,
   "id": "e6a8fa06",
   "metadata": {},
   "outputs": [],
   "source": [
    "import pandas as pd\n",
    "import matplotlib.pyplot as plt\n",
    "import pylab as pl\n",
    "import numpy as np \n",
    "\n",
    "from sklearn import preprocessing\n",
    "from sklearn import linear_model\n",
    "from sklearn.metrics import r2_score\n",
    "import statsmodels.api as sm\n",
    "\n",
    "from sklearn import *"
   ]
  },
  {
   "cell_type": "markdown",
   "id": "f8788cd6",
   "metadata": {},
   "source": [
    "## 1. Preprocessing Data"
   ]
  },
  {
   "cell_type": "code",
   "execution_count": 156,
   "id": "c4881e24",
   "metadata": {},
   "outputs": [],
   "source": [
    "#Reading CSV file\n",
    "arq = \"data_processed.csv\"\n",
    "m = pd.read_csv(arq, sep=',')"
   ]
  },
  {
   "cell_type": "markdown",
   "id": "19228410",
   "metadata": {},
   "source": [
    "### Normalizing the data"
   ]
  },
  {
   "cell_type": "code",
   "execution_count": 153,
   "id": "534b2842",
   "metadata": {},
   "outputs": [
    {
     "data": {
      "text/html": [
       "<div>\n",
       "<style scoped>\n",
       "    .dataframe tbody tr th:only-of-type {\n",
       "        vertical-align: middle;\n",
       "    }\n",
       "\n",
       "    .dataframe tbody tr th {\n",
       "        vertical-align: top;\n",
       "    }\n",
       "\n",
       "    .dataframe thead th {\n",
       "        text-align: right;\n",
       "    }\n",
       "</style>\n",
       "<table border=\"1\" class=\"dataframe\">\n",
       "  <thead>\n",
       "    <tr style=\"text-align: right;\">\n",
       "      <th></th>\n",
       "      <th>phase3_duration</th>\n",
       "      <th>phase3_Peso_avg</th>\n",
       "      <th>phase3_Presion_avg</th>\n",
       "      <th>phase3_Presion_max</th>\n",
       "      <th>phase3_Visco_max</th>\n",
       "      <th>phase3_Densidad_max</th>\n",
       "    </tr>\n",
       "  </thead>\n",
       "  <tbody>\n",
       "    <tr>\n",
       "      <th>0</th>\n",
       "      <td>10.0</td>\n",
       "      <td>0.0000</td>\n",
       "      <td>0.234332</td>\n",
       "      <td>0.234375</td>\n",
       "      <td>0.00000</td>\n",
       "      <td>0.000</td>\n",
       "    </tr>\n",
       "    <tr>\n",
       "      <th>1</th>\n",
       "      <td>27985.0</td>\n",
       "      <td>4504.4478</td>\n",
       "      <td>1.237560</td>\n",
       "      <td>2.526042</td>\n",
       "      <td>559.38000</td>\n",
       "      <td>63897.484</td>\n",
       "    </tr>\n",
       "    <tr>\n",
       "      <th>2</th>\n",
       "      <td>16935.0</td>\n",
       "      <td>5678.3500</td>\n",
       "      <td>1.288355</td>\n",
       "      <td>2.867477</td>\n",
       "      <td>579.17755</td>\n",
       "      <td>66975.870</td>\n",
       "    </tr>\n",
       "    <tr>\n",
       "      <th>3</th>\n",
       "      <td>3345.0</td>\n",
       "      <td>29858.3710</td>\n",
       "      <td>1.915336</td>\n",
       "      <td>3.003472</td>\n",
       "      <td>717.00000</td>\n",
       "      <td>62665.250</td>\n",
       "    </tr>\n",
       "    <tr>\n",
       "      <th>4</th>\n",
       "      <td>21430.0</td>\n",
       "      <td>4409.2380</td>\n",
       "      <td>1.260862</td>\n",
       "      <td>2.881945</td>\n",
       "      <td>900.00000</td>\n",
       "      <td>64876.690</td>\n",
       "    </tr>\n",
       "    <tr>\n",
       "      <th>...</th>\n",
       "      <td>...</td>\n",
       "      <td>...</td>\n",
       "      <td>...</td>\n",
       "      <td>...</td>\n",
       "      <td>...</td>\n",
       "      <td>...</td>\n",
       "    </tr>\n",
       "    <tr>\n",
       "      <th>328</th>\n",
       "      <td>175.0</td>\n",
       "      <td>57997.4300</td>\n",
       "      <td>2.974042</td>\n",
       "      <td>2.980324</td>\n",
       "      <td>0.00000</td>\n",
       "      <td>58302.473</td>\n",
       "    </tr>\n",
       "    <tr>\n",
       "      <th>329</th>\n",
       "      <td>3265.0</td>\n",
       "      <td>23674.0200</td>\n",
       "      <td>1.856862</td>\n",
       "      <td>3.220486</td>\n",
       "      <td>826.00000</td>\n",
       "      <td>60995.625</td>\n",
       "    </tr>\n",
       "    <tr>\n",
       "      <th>330</th>\n",
       "      <td>175.0</td>\n",
       "      <td>57997.4300</td>\n",
       "      <td>2.974042</td>\n",
       "      <td>2.980324</td>\n",
       "      <td>0.00000</td>\n",
       "      <td>58302.473</td>\n",
       "    </tr>\n",
       "    <tr>\n",
       "      <th>331</th>\n",
       "      <td>3265.0</td>\n",
       "      <td>23674.0200</td>\n",
       "      <td>1.856862</td>\n",
       "      <td>3.220486</td>\n",
       "      <td>826.00000</td>\n",
       "      <td>60995.625</td>\n",
       "    </tr>\n",
       "    <tr>\n",
       "      <th>332</th>\n",
       "      <td>310.0</td>\n",
       "      <td>57684.4770</td>\n",
       "      <td>2.977007</td>\n",
       "      <td>2.989005</td>\n",
       "      <td>0.00000</td>\n",
       "      <td>58287.598</td>\n",
       "    </tr>\n",
       "  </tbody>\n",
       "</table>\n",
       "<p>333 rows × 6 columns</p>\n",
       "</div>"
      ],
      "text/plain": [
       "     phase3_duration  phase3_Peso_avg  phase3_Presion_avg  phase3_Presion_max  \\\n",
       "0               10.0           0.0000            0.234332            0.234375   \n",
       "1            27985.0        4504.4478            1.237560            2.526042   \n",
       "2            16935.0        5678.3500            1.288355            2.867477   \n",
       "3             3345.0       29858.3710            1.915336            3.003472   \n",
       "4            21430.0        4409.2380            1.260862            2.881945   \n",
       "..               ...              ...                 ...                 ...   \n",
       "328            175.0       57997.4300            2.974042            2.980324   \n",
       "329           3265.0       23674.0200            1.856862            3.220486   \n",
       "330            175.0       57997.4300            2.974042            2.980324   \n",
       "331           3265.0       23674.0200            1.856862            3.220486   \n",
       "332            310.0       57684.4770            2.977007            2.989005   \n",
       "\n",
       "     phase3_Visco_max  phase3_Densidad_max  \n",
       "0             0.00000                0.000  \n",
       "1           559.38000            63897.484  \n",
       "2           579.17755            66975.870  \n",
       "3           717.00000            62665.250  \n",
       "4           900.00000            64876.690  \n",
       "..                ...                  ...  \n",
       "328           0.00000            58302.473  \n",
       "329         826.00000            60995.625  \n",
       "330           0.00000            58302.473  \n",
       "331         826.00000            60995.625  \n",
       "332           0.00000            58287.598  \n",
       "\n",
       "[333 rows x 6 columns]"
      ]
     },
     "execution_count": 153,
     "metadata": {},
     "output_type": "execute_result"
    }
   ],
   "source": [
    "m"
   ]
  },
  {
   "cell_type": "code",
   "execution_count": 133,
   "id": "425072b5",
   "metadata": {},
   "outputs": [
    {
     "data": {
      "text/html": [
       "<div>\n",
       "<style scoped>\n",
       "    .dataframe tbody tr th:only-of-type {\n",
       "        vertical-align: middle;\n",
       "    }\n",
       "\n",
       "    .dataframe tbody tr th {\n",
       "        vertical-align: top;\n",
       "    }\n",
       "\n",
       "    .dataframe thead th {\n",
       "        text-align: right;\n",
       "    }\n",
       "</style>\n",
       "<table border=\"1\" class=\"dataframe\">\n",
       "  <thead>\n",
       "    <tr style=\"text-align: right;\">\n",
       "      <th></th>\n",
       "      <th>0</th>\n",
       "      <th>1</th>\n",
       "      <th>2</th>\n",
       "      <th>3</th>\n",
       "      <th>4</th>\n",
       "      <th>5</th>\n",
       "    </tr>\n",
       "  </thead>\n",
       "  <tbody>\n",
       "    <tr>\n",
       "      <th>0</th>\n",
       "      <td>0.000000</td>\n",
       "      <td>0.000000</td>\n",
       "      <td>0.035204</td>\n",
       "      <td>0.000000</td>\n",
       "      <td>0.000000</td>\n",
       "      <td>0.000000</td>\n",
       "    </tr>\n",
       "    <tr>\n",
       "      <th>1</th>\n",
       "      <td>0.191053</td>\n",
       "      <td>0.073309</td>\n",
       "      <td>0.358522</td>\n",
       "      <td>0.755005</td>\n",
       "      <td>0.065578</td>\n",
       "      <td>0.869046</td>\n",
       "    </tr>\n",
       "    <tr>\n",
       "      <th>2</th>\n",
       "      <td>0.115588</td>\n",
       "      <td>0.092414</td>\n",
       "      <td>0.374892</td>\n",
       "      <td>0.867493</td>\n",
       "      <td>0.067899</td>\n",
       "      <td>0.910914</td>\n",
       "    </tr>\n",
       "    <tr>\n",
       "      <th>3</th>\n",
       "      <td>0.022776</td>\n",
       "      <td>0.485940</td>\n",
       "      <td>0.576954</td>\n",
       "      <td>0.912297</td>\n",
       "      <td>0.084056</td>\n",
       "      <td>0.852287</td>\n",
       "    </tr>\n",
       "    <tr>\n",
       "      <th>4</th>\n",
       "      <td>0.146286</td>\n",
       "      <td>0.071760</td>\n",
       "      <td>0.366032</td>\n",
       "      <td>0.872259</td>\n",
       "      <td>0.105510</td>\n",
       "      <td>0.882364</td>\n",
       "    </tr>\n",
       "    <tr>\n",
       "      <th>...</th>\n",
       "      <td>...</td>\n",
       "      <td>...</td>\n",
       "      <td>...</td>\n",
       "      <td>...</td>\n",
       "      <td>...</td>\n",
       "      <td>...</td>\n",
       "    </tr>\n",
       "    <tr>\n",
       "      <th>328</th>\n",
       "      <td>0.001127</td>\n",
       "      <td>0.943898</td>\n",
       "      <td>0.918152</td>\n",
       "      <td>0.904671</td>\n",
       "      <td>0.000000</td>\n",
       "      <td>0.792950</td>\n",
       "    </tr>\n",
       "    <tr>\n",
       "      <th>329</th>\n",
       "      <td>0.022230</td>\n",
       "      <td>0.385290</td>\n",
       "      <td>0.558110</td>\n",
       "      <td>0.983794</td>\n",
       "      <td>0.096835</td>\n",
       "      <td>0.829579</td>\n",
       "    </tr>\n",
       "    <tr>\n",
       "      <th>330</th>\n",
       "      <td>0.001127</td>\n",
       "      <td>0.943898</td>\n",
       "      <td>0.918152</td>\n",
       "      <td>0.904671</td>\n",
       "      <td>0.000000</td>\n",
       "      <td>0.792950</td>\n",
       "    </tr>\n",
       "    <tr>\n",
       "      <th>331</th>\n",
       "      <td>0.022230</td>\n",
       "      <td>0.385290</td>\n",
       "      <td>0.558110</td>\n",
       "      <td>0.983794</td>\n",
       "      <td>0.096835</td>\n",
       "      <td>0.829579</td>\n",
       "    </tr>\n",
       "    <tr>\n",
       "      <th>332</th>\n",
       "      <td>0.002049</td>\n",
       "      <td>0.938804</td>\n",
       "      <td>0.919108</td>\n",
       "      <td>0.907531</td>\n",
       "      <td>0.000000</td>\n",
       "      <td>0.792748</td>\n",
       "    </tr>\n",
       "  </tbody>\n",
       "</table>\n",
       "<p>333 rows × 6 columns</p>\n",
       "</div>"
      ],
      "text/plain": [
       "            0         1         2         3         4         5\n",
       "0    0.000000  0.000000  0.035204  0.000000  0.000000  0.000000\n",
       "1    0.191053  0.073309  0.358522  0.755005  0.065578  0.869046\n",
       "2    0.115588  0.092414  0.374892  0.867493  0.067899  0.910914\n",
       "3    0.022776  0.485940  0.576954  0.912297  0.084056  0.852287\n",
       "4    0.146286  0.071760  0.366032  0.872259  0.105510  0.882364\n",
       "..        ...       ...       ...       ...       ...       ...\n",
       "328  0.001127  0.943898  0.918152  0.904671  0.000000  0.792950\n",
       "329  0.022230  0.385290  0.558110  0.983794  0.096835  0.829579\n",
       "330  0.001127  0.943898  0.918152  0.904671  0.000000  0.792950\n",
       "331  0.022230  0.385290  0.558110  0.983794  0.096835  0.829579\n",
       "332  0.002049  0.938804  0.919108  0.907531  0.000000  0.792748\n",
       "\n",
       "[333 rows x 6 columns]"
      ]
     },
     "execution_count": 133,
     "metadata": {},
     "output_type": "execute_result"
    }
   ],
   "source": [
    "#Normalizing the DataFrame using preprocessing scaler of sklearn\n",
    "x = m.values #returns a numpy array\n",
    "min_max_scaler = preprocessing.MinMaxScaler()\n",
    "x_scaled = min_max_scaler.fit_transform(x)\n",
    "m = pd.DataFrame(x_scaled)\n",
    "m"
   ]
  },
  {
   "cell_type": "markdown",
   "id": "2ff48fa3",
   "metadata": {},
   "source": [
    "### Split the dataset into train and test sets. 80% of the entire dataset will be used for training and 20% for testing. We create a mask to select random rows using np.random.rand() function:"
   ]
  },
  {
   "cell_type": "code",
   "execution_count": 145,
   "id": "0d4f75d8",
   "metadata": {
    "scrolled": true
   },
   "outputs": [],
   "source": [
    "#Train and Test Split\n",
    "msk = np.random.rand(len(m)) < 0.80\n",
    "\n",
    "train = m[msk]\n",
    "test = m[~msk]"
   ]
  },
  {
   "cell_type": "markdown",
   "id": "85579155",
   "metadata": {},
   "source": [
    "## 2. Training the model"
   ]
  },
  {
   "cell_type": "code",
   "execution_count": 146,
   "id": "97316dc0",
   "metadata": {},
   "outputs": [
    {
     "name": "stdout",
     "output_type": "stream",
     "text": [
      "Intercept:  [0.10829946]\n",
      "Coefficients:  [[ 0.33168688  0.35572476 -0.6084219   1.00683016  0.00170674]]\n"
     ]
    }
   ],
   "source": [
    "#Modeling Training\n",
    "model = linear_model.LinearRegression()\n",
    "train_x = np.asanyarray(train[[0,1,2,3,4]])\n",
    "train_y = np.asanyarray(train[[5]])\n",
    "model = model.fit(train_x, train_y)\n",
    "# The coefficients\n",
    "print ('Intercept: ', model.intercept_)\n",
    "print ('Coefficients: ', model.coef_)"
   ]
  },
  {
   "cell_type": "markdown",
   "id": "0a4a261c",
   "metadata": {},
   "source": [
    "## 3. Running the prediction "
   ]
  },
  {
   "cell_type": "code",
   "execution_count": 147,
   "id": "cf87f7a3",
   "metadata": {},
   "outputs": [],
   "source": [
    "#PREDICTION\n",
    "y_pred= model.predict(test[[0,1,2,3,4]])\n",
    "x = np.asanyarray(test[[0,1,2,3,4]])\n",
    "y = np.asanyarray(test[[5]])\n",
    "# print(\"Mean Squared error(MSE): %.2f\"\n",
    "#       % np.mean((y_pred - y) ** 2))\n",
    "\n",
    "\n",
    "# print('Variance score: %.2f' % model.score(x, y))"
   ]
  },
  {
   "cell_type": "markdown",
   "id": "40c39cf2",
   "metadata": {},
   "source": [
    "## 4. Getting all the metrics to analyze"
   ]
  },
  {
   "cell_type": "code",
   "execution_count": 148,
   "id": "bf7ff67d",
   "metadata": {},
   "outputs": [],
   "source": [
    "import sklearn.metrics as metrics\n",
    "def regression_results(y_true, y_pred):\n",
    "\n",
    "    # Regression metrics\n",
    "    explained_variance=metrics.explained_variance_score(y_true, y_pred)\n",
    "    mean_absolute_error=metrics.mean_absolute_error(y_true, y_pred) \n",
    "    mse=metrics.mean_squared_error(y_true, y_pred) \n",
    "    mean_squared_log_error=metrics.mean_squared_log_error(y_true, y_pred)\n",
    "    median_absolute_error=metrics.median_absolute_error(y_true, y_pred)\n",
    "    r2=metrics.r2_score(y_true, y_pred)\n",
    "\n",
    "    print('Explained_variance: ', round(explained_variance,4))    \n",
    "    print('Mean_squared_log_error: ', round(mean_squared_log_error,4))\n",
    "    print('R2: ', round(r2,4))\n",
    "    print('MAE: ', round(mean_absolute_error,4))\n",
    "    print('MSE: ', round(mse,4))\n",
    "    print('RMSE: ', round(np.sqrt(mse),4))"
   ]
  },
  {
   "cell_type": "code",
   "execution_count": 149,
   "id": "9d5711d0",
   "metadata": {},
   "outputs": [
    {
     "name": "stdout",
     "output_type": "stream",
     "text": [
      "Explained_variance:  0.8967\n",
      "Mean_squared_log_error:  0.0027\n",
      "R2:  0.8967\n",
      "MAE:  0.0632\n",
      "MSE:  0.0073\n",
      "RMSE:  0.0854\n"
     ]
    }
   ],
   "source": [
    "regression_results(y, y_pred)"
   ]
  },
  {
   "cell_type": "markdown",
   "id": "b66d3b31",
   "metadata": {},
   "source": [
    "## 5. Plotting the results "
   ]
  },
  {
   "cell_type": "markdown",
   "id": "8ce37b86",
   "metadata": {},
   "source": [
    "### Plotting the Multiple Linear Regression "
   ]
  },
  {
   "cell_type": "code",
   "execution_count": 151,
   "id": "b06f2609",
   "metadata": {},
   "outputs": [
    {
     "data": {
      "image/png": "[encoded data removed]",
      "text/plain": [
       "<Figure size 640x480 with 1 Axes>"
      ]
     },
     "metadata": {},
     "output_type": "display_data"
    }
   ],
   "source": [
    "ax = sns.regplot(x=y, y=y_pred,\n",
    "                 scatter_kws={\"color\": \"blue\"}, line_kws={\"color\": \"red\"}).set(title=f'Multiple Liner Regression Model \\n \\n R2: {round(metrics.r2_score(y, y_pred),4)}')\n",
    "\n",
    "plt.xlabel(\"Actual\")\n",
    "plt.ylabel(\"Predict\")\n",
    "\n",
    "plt.show()"
   ]
  },
  {
   "cell_type": "markdown",
   "id": "87ab4753",
   "metadata": {},
   "source": [
    "### Preprocessing data to plot the actual versus predict"
   ]
  },
  {
   "cell_type": "code",
   "execution_count": 140,
   "id": "2dfc5fb1",
   "metadata": {},
   "outputs": [],
   "source": [
    "list_y = [valor for sublist in y for valor in sublist]\n",
    "list_y_pred = [valor for sublist in y_pred for valor in sublist]"
   ]
  },
  {
   "cell_type": "code",
   "execution_count": 141,
   "id": "bfb334f0",
   "metadata": {},
   "outputs": [],
   "source": [
    "pred_df=pd.DataFrame({'Actual Value':list_y,'Predicted Value':list_y_pred})\n",
    "# pred_df['Difference'] = pred_df['Actual Value'] - pred_df['Predicted Value']\n",
    "\n",
    "pred_df.index = range(len(pred_df.index))"
   ]
  },
  {
   "cell_type": "code",
   "execution_count": 142,
   "id": "9b8513c4",
   "metadata": {},
   "outputs": [
    {
     "data": {
      "image/png": "[encoded data removed]",
      "text/plain": [
       "<Figure size 640x480 with 1 Axes>"
      ]
     },
     "metadata": {},
     "output_type": "display_data"
    }
   ],
   "source": [
    "# Plotando um gráfico de linhas com duas linhas no eixo y\n",
    "sns.set(style=\"darkgrid\")  # Define o estilo do gráfico\n",
    "\n",
    "# Cria o gráfico de linhas com dois conjuntos de dados\n",
    "sns.lineplot(data=pred_df, palette=\"bright\", linewidth=2.5)\n",
    "\n",
    "# Define os rótulos e o título do gráfico\n",
    "plt.xlabel('Observations')\n",
    "plt.ylabel('Density')\n",
    "plt.title('Actual Value vs Predicted Value \\n')\n",
    "\n",
    "# Mostra o gráfico\n",
    "plt.show()"
   ]
  },
  {
   "cell_type": "markdown",
   "id": "b09f7a3f",
   "metadata": {},
   "source": [
    "### The function to make the predict by inputting the parameters"
   ]
  },
  {
   "cell_type": "code",
   "execution_count": 143,
   "id": "f39f358f",
   "metadata": {},
   "outputs": [],
   "source": [
    "coeff = model.coef_[0]\n",
    "intercept = model.intercept_\n",
    "\n",
    "def predict_density(duration, peso_avg, presion_avg, presion_max, visco_max):\n",
    "    density = intercept[0] + (coeff[0]*duration) + (coeff[1]*peso_avg) + (coeff[2]*presion_avg) + (coeff[3]*presion_max) + (coeff[4]*visco_max)\n",
    "    \n",
    "    return print('The Density is: ' + str(round(density,4)))"
   ]
  },
  {
   "cell_type": "markdown",
   "id": "76a47a63",
   "metadata": {},
   "source": [
    "### Running the function to predictive density"
   ]
  },
  {
   "cell_type": "code",
   "execution_count": 144,
   "id": "c9f5d801",
   "metadata": {},
   "outputs": [
    {
     "name": "stdout",
     "output_type": "stream",
     "text": [
      "The Density is: 0.902\n"
     ]
    }
   ],
   "source": [
    "predict_density(0.022230,0.385290,0.558110,0.983794,0.096835)  "
   ]
  },
  {
   "cell_type": "code",
   "execution_count": null,
   "id": "d32cd3e6",
   "metadata": {},
   "outputs": [],
   "source": []
  }
 ],
 "metadata": {
  "kernelspec": {
   "display_name": "Python 3 (ipykernel)",
   "language": "python",
   "name": "python3"
  },
  "language_info": {
   "codemirror_mode": {
    "name": "ipython",
    "version": 3
   },
   "file_extension": ".py",
   "mimetype": "text/x-python",
   "name": "python",
   "nbconvert_exporter": "python",
   "pygments_lexer": "ipython3",
   "version": "3.11.5"
  }
 },
 "nbformat": 4,
 "nbformat_minor": 5
}
